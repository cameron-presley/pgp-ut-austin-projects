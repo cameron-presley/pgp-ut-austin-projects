{
 "cells": [
  {
   "cell_type": "markdown",
   "metadata": {},
   "source": [
    "### Importing the necessary libraries"
   ]
  },
  {
   "cell_type": "code",
   "execution_count": 1,
   "metadata": {},
   "outputs": [],
   "source": [
    "import numpy as np\n",
    "import pandas as pd\n",
    "import matplotlib.pyplot as plt\n",
    "import scipy.stats as stats"
   ]
  },
  {
   "cell_type": "markdown",
   "metadata": {},
   "source": [
    "# 1. You are a manager of a chinese restaurant. You want to determine whether the waiting time to place an order has changed in the past month from its previous population mean value of 4.5 minutes. State the null and alternative hypothesis."
   ]
  },
  {
   "cell_type": "markdown",
   "metadata": {},
   "source": [
    "The null hypothesis is that the population mean has not changed from its previous value of 4.5 minutes. This is stated \n",
    "as\n",
    "\n",
    "H0: µ = 4.5\n",
    "\n",
    "The alternative hypothesis is the opposite of the null hypothesis. Because the null hypothesis is that the population\n",
    "mean is 4.5 minutes, the alternative hypothesis is that the population mean is not 4.5 minutes. This is stated as\n",
    "\n",
    "H1 : µ not equal to 4.5"
   ]
  },
  {
   "cell_type": "markdown",
   "metadata": {},
   "source": [
    "# 2. What is the p value if, in a two-tail hypothesis test, Zstat = +2.00?"
   ]
  },
  {
   "cell_type": "code",
   "execution_count": 2,
   "metadata": {},
   "outputs": [
    {
     "data": {
      "text/plain": [
       "0.02275013194817921"
      ]
     },
     "execution_count": 2,
     "metadata": {},
     "output_type": "execute_result"
    }
   ],
   "source": [
    "# Calculating the p-value for Zstat=2\n",
    "p_val=1-stats.norm.cdf(2)\n",
    "p_val"
   ]
  },
  {
   "cell_type": "code",
   "execution_count": 3,
   "metadata": {},
   "outputs": [
    {
     "data": {
      "text/plain": [
       "0.04550026389635842"
      ]
     },
     "execution_count": 3,
     "metadata": {},
     "output_type": "execute_result"
    }
   ],
   "source": [
    "#since it is a two tailed test-\n",
    "p_val*2"
   ]
  },
  {
   "cell_type": "markdown",
   "metadata": {},
   "source": [
    "p-value for Zstat =2 is 0.0455"
   ]
  },
  {
   "cell_type": "markdown",
   "metadata": {},
   "source": [
    "# 3. Samy, Product Manager of K2 Jeans, wants to Launch a product line into a new market area.Survey of random sample of 400 households in that market showed a mean income per household of 30000 rupees. Standard deviation based on earlier pilot study of households is 8000 rupees. Samy strongly believes the product line will be adequately profitable only in markets where the mean household income is greater than 29000 rupees Samy wants our help in deciding whether the product line should be introduced in the New market Perform statistical analysis and based on that draw a conclusion."
   ]
  },
  {
   "cell_type": "markdown",
   "metadata": {},
   "source": [
    "Null Hypothesis: Mean income of household is less than or equal to 29000 \n",
    "\n",
    "H0: µ <= 29000 \n",
    "\n",
    "Alternate Hypothesis: Mean income of household is greater than 29000\n",
    "\n",
    "H1: µ > 29000 "
   ]
  },
  {
   "cell_type": "markdown",
   "metadata": {},
   "source": [
    "x̅= 30000\n",
    "\n",
    "μ = 29000\n",
    "\n",
    "σ= 8000\n",
    "\n",
    "n = 400\n",
    "\n",
    "𝑍=(x̅ − μ)/ (σ/(sqrt(n)) = (30000 – 29000) / (8000/sqrt(400))= 2.5"
   ]
  },
  {
   "cell_type": "code",
   "execution_count": 4,
   "metadata": {},
   "outputs": [
    {
     "data": {
      "text/plain": [
       "0.006209665325776159"
      ]
     },
     "execution_count": 4,
     "metadata": {},
     "output_type": "execute_result"
    }
   ],
   "source": [
    "# Calculating the p-value for Zstat=2.5\n",
    "1-stats.norm.cdf(2.5)"
   ]
  },
  {
   "cell_type": "markdown",
   "metadata": {},
   "source": [
    "Interpretation of p value: \n",
    "If the p-value is less than α(significance level), reject the null hypothesis.\n",
    "\n",
    "Since α is not specified,we assume it to be 0.05. \n",
    "\n",
    "Since P-value (0.006) < α (0.05), we reject the null hypothesis and conclude that the mean income of household is greater than 29000"
   ]
  },
  {
   "cell_type": "markdown",
   "metadata": {
    "_cell_guid": "cf40190e-4ebf-4a2e-8e5b-1d30164f9c74",
    "_uuid": "e73e536b1c5b44bfe0015cfdb2e4d031d6d4cbeb",
    "colab_type": "text",
    "id": "Iawv0qTtE42x"
   },
   "source": [
    "## Overview\n",
    "Let's say you know the mean and standard deviation of a population. How can you tell if a sample is from this population or some other population? Although we may never know with 100% certainty, we can look for statistically significant differences between the sample statistics and the population paramters. This is done by first stating what is refered to as a null hypothesis, which in this scenario would be that there is no difference between the sample mean and the population mean. Then we look for statistical evidence to accept or reject the null hypothesis. What if we don't know the population parameters? "
   ]
  },
  {
   "cell_type": "markdown",
   "metadata": {
    "_cell_guid": "6947b130-e149-44f0-bb45-f36a88787ce0",
    "_uuid": "3f5284503c71ef3b19997b3f9a30d20b82ca657f",
    "colab_type": "text",
    "id": "F-Sc4NFQE422"
   },
   "source": [
    "## 4. Check whether the sample of Wine Scores is from the Wine Enthusiast Population. Let's assume the WineEnthusiast point scores are interval-scaled normally distributed data. (Assume 5% significance level: Zcritical value =  1.96) "
   ]
  },
  {
   "cell_type": "markdown",
   "metadata": {},
   "source": [
    "The population parameters are as follows:\n",
    "\n",
    "Population mean (mu) = 88.44\n",
    "\n",
    "Standard deviation (sigma) = 3.03"
   ]
  },
  {
   "cell_type": "markdown",
   "metadata": {},
   "source": [
    "A sample of 10 wine scores yields a sample mean(x_bar) = 90.2"
   ]
  },
  {
   "cell_type": "markdown",
   "metadata": {},
   "source": [
    "**a) Formulate the null hypothesis and alternative hypothesis**"
   ]
  },
  {
   "cell_type": "markdown",
   "metadata": {},
   "source": [
    "* H<sub>0</sub>: The sample is from the population, x_bar = &mu;.\n",
    "* H<sub>A</sub>: The sample is not from the population, x_bar != (not equal) &mu;."
   ]
  },
  {
   "cell_type": "markdown",
   "metadata": {},
   "source": [
    "**b) Calculate the test-statistics and conclude if the sample is typical to the population or not.**"
   ]
  },
  {
   "cell_type": "code",
   "execution_count": 5,
   "metadata": {
    "_cell_guid": "d4bb2a08-fe1d-4653-8d24-019911dcd7bb",
    "_uuid": "025faf9721bde2a423a7dc279bd435b74233f47f",
    "colab": {},
    "colab_type": "code",
    "id": "CW_AjDdyE427",
    "outputId": "b03c2d8e-30c3-4892-b7a3-eb9eee51609c"
   },
   "outputs": [
    {
     "name": "stdout",
     "output_type": "stream",
     "text": [
      "1.8368345484806485\n"
     ]
    }
   ],
   "source": [
    "z_critical = 1.96 # alpha level of 0.05 and two-tailed test\n",
    "mu = 88.44\n",
    "sigma = 3.03\n",
    "x_bar = 90.2\n",
    "N = 10\n",
    "SE = sigma/np.sqrt(N)\n",
    "z_stat = (x_bar - mu)/SE\n",
    "print(z_stat)"
   ]
  },
  {
   "cell_type": "markdown",
   "metadata": {},
   "source": [
    "This is a two‐tailed test; so the 0.05 must be split such that 0.025 is in the upper tail and another 0.025 in the lower. \n",
    "The z‐value of the lower tail is –1.96. \n",
    "The Z- value that corresponds to the upper tail is 1.96. \n",
    "\n",
    "The null hypothesis of no difference will be rejected if the computed z statistic falls outside the range of –1.96 to 1.96.\n",
    "\n",
    "Because 1.836 is between –1.96 and 1.96, the null hypothesis that the sample is from the population cannot be rejected. "
   ]
  },
  {
   "cell_type": "markdown",
   "metadata": {
    "_cell_guid": "5fa95660-43e2-4848-b758-b914919865a9",
    "_uuid": "49395110a1332f8a83c39d928d2b431f79a69b7a",
    "colab_type": "text",
    "id": "PNvkX4V5E42-"
   },
   "source": [
    "**c) Calculate the test-statistics and conclude if the sample is typical to the population or not if the sample size(N) is equal to 30.**"
   ]
  },
  {
   "cell_type": "code",
   "execution_count": 6,
   "metadata": {
    "_cell_guid": "94724d01-8468-459d-88c2-f812a053ecca",
    "_uuid": "223f6e27a6c146c4c0bbed8391bdeae95a0b6797",
    "colab": {},
    "colab_type": "code",
    "id": "GHBBnWG-E42-",
    "outputId": "82343f76-5ea7-4736-e3cd-e952dd56d181"
   },
   "outputs": [
    {
     "name": "stdout",
     "output_type": "stream",
     "text": [
      "3.1814907630663205\n"
     ]
    }
   ],
   "source": [
    "N = 30\n",
    "SE = sigma/np.sqrt(N)\n",
    "z_stat = (x_bar - mu)/SE\n",
    "print(z_stat)"
   ]
  },
  {
   "cell_type": "markdown",
   "metadata": {},
   "source": [
    "Because 3.18 doesn’t lie between –1.96 and 1.96, the null hypothesis that the sample is from the population is rejected. That is, there is enough evidence that this sample can be considered different from population."
   ]
  },
  {
   "cell_type": "markdown",
   "metadata": {
    "_cell_guid": "9b9566bb-e9b5-4b48-9b45-0194167d2b2b",
    "_uuid": "6256e72b89e829fc8583163418120a3e50aaa156",
    "colab_type": "text",
    "id": "euOWOovJE43G"
   },
   "source": [
    "## 5. One-sample t- test \n",
    "\n",
    "The mass of a sample of N=20 acorns from a forest subjected to acid rain from a coal power plant are m = 8.8, 6.6, 9.5, 11.2, 10.2, 7.4, 8.0, 9.6, 9.9, 9.0, 7.6, 7.4, 10.4, 11.1, 8.5, 10.0, 11.6, 10.7, 10.3, and 7.0 g. \n",
    "\n",
    "Is the average mass of this sample different from the average mass of all acorns of &mu; = 10.0 g?"
   ]
  },
  {
   "cell_type": "markdown",
   "metadata": {},
   "source": [
    "**a) Formulate the null and alternate hypothesis**\n",
    "\n",
    "* H<sub>0</sub>: x&#772; - &mu; = 0, There is no difference between sample mean and the value of &mu;.\n",
    "* H<sub>a</sub>: x&#772; - &mu; &ne; 0, There is difference between sample mean and the value of &mu;."
   ]
  },
  {
   "cell_type": "markdown",
   "metadata": {},
   "source": [
    "**b) Calculate the test-statistics and based on p-value provide a conclusion.**"
   ]
  },
  {
   "cell_type": "code",
   "execution_count": 7,
   "metadata": {
    "_cell_guid": "4148d56b-fa5a-4e96-b67c-1e57bccf6417",
    "_uuid": "763af9076a0089015fc6d5d85c17e344b50b5a48",
    "colab": {},
    "colab_type": "code",
    "id": "cmPwcZrXE43G",
    "outputId": "3a006dcc-398f-486f-ff03-c75f8730385a",
    "scrolled": true
   },
   "outputs": [
    {
     "name": "stdout",
     "output_type": "stream",
     "text": [
      "tstats =  -2.2491611580763973 , p-value =  0.03655562279112415\n"
     ]
    }
   ],
   "source": [
    "x = [8.8, 6.6, 9.5, 11.2, 10.2, 7.4, 8.0, 9.6, 9.9, 9.0,\n",
    "     7.6, 7.4, 10.4, 11.1, 8.5, 10.0, 11.6, 10.7, 10.3, 7.0]\n",
    "\n",
    "mu = 10\n",
    "\n",
    "t, p = stats.ttest_1samp(x, mu)\n",
    "print(\"tstats = \", t, \", p-value = \", p)"
   ]
  },
  {
   "cell_type": "markdown",
   "metadata": {
    "_cell_guid": "b2894e2f-f2ab-4004-af72-0cbaa592d286",
    "_uuid": "662933c050f5d099e89102fa8779f69d1f3ac8b2",
    "colab_type": "text",
    "id": "72xPNgoXE43J"
   },
   "source": [
    "Since P-value(0.03) < 0.05 (alpha) we reject the null hypothesis and conclude that the sample mean is not equal to the population mean or there is a difference between the sample mean and the value of &mu; Hence, average mass of this sample of acorns is not equal to &mu; = 10."
   ]
  },
  {
   "cell_type": "markdown",
   "metadata": {
    "_cell_guid": "fd17fd23-4f92-403e-aada-0b61433b22e9",
    "_uuid": "948240552a9daac38010e7ec652d02adbdfab6f7",
    "colab_type": "text",
    "id": "ulAnmKcwE43M"
   },
   "source": [
    "## 6. Independent (unpaired) two-sample t-test.\n",
    "The mass of N<sub>1</sub>=20 acorns from oak trees up wind from a coal power plant and N<sub>2</sub>=30 acorns from oak trees down wind from the same coal power plant are measured. Is the mass of acorns from trees down wind different from the the ones from up wind? The sample sizes are not equal but we will assume that the population variance of sample 1 and sample 2 are equal.\n",
    "\n",
    "#### sample up wind:\n",
    "x1 = [10.8, 10.0, 8.2, 9.9, 11.6, 10.1, 11.3, 10.3, 10.7, 9.7, \n",
    "      7.8, 9.6, 9.7, 11.6, 10.3, 9.8, 12.3, 11.0, 10.4, 10.4]\n",
    "\n",
    "#### sample down wind:\n",
    "x2 = [7.8, 7.5, 9.5, 11.7, 8.1, 8.8, 8.8, 7.7, 9.7, 7.0, \n",
    "      9.0, 9.7, 11.3, 8.7, 8.8, 10.9, 10.3, 9.6, 8.4, 6.6,\n",
    "      7.2, 7.6, 11.5, 6.6, 8.6, 10.5, 8.4, 8.5, 10.2, 9.2]\n"
   ]
  },
  {
   "cell_type": "markdown",
   "metadata": {},
   "source": [
    "**a) Formulate null and alternate hypothesis.**"
   ]
  },
  {
   "cell_type": "markdown",
   "metadata": {},
   "source": [
    "* Ho: x1 = x2 -> x1 - x2 = 0, There is no difference between the means\n",
    "* Ha: x1 != x2 -> x1 - x2 != 0, There is difference between the means\n"
   ]
  },
  {
   "cell_type": "markdown",
   "metadata": {},
   "source": [
    "**b) Calculate the test-statistics and based on p-value provide a conclusion.**"
   ]
  },
  {
   "cell_type": "code",
   "execution_count": 8,
   "metadata": {
    "_cell_guid": "f2b15c98-92e0-4f2b-90e1-beb62cc3ae03",
    "_uuid": "fa96a81f7f2ca3b6cb195dd0e0c087b8d30b348b",
    "colab": {},
    "colab_type": "code",
    "id": "uS5i2yATE43M",
    "outputId": "5032c658-d5c0-44f2-9ad3-936de89d0a43"
   },
   "outputs": [
    {
     "name": "stdout",
     "output_type": "stream",
     "text": [
      "tstats =  -3.5981947686898033 , p_value =  0.0007560337478801464\n"
     ]
    }
   ],
   "source": [
    "# sample up wind\n",
    "x1 = [10.8, 10.0, 8.2, 9.9, 11.6, 10.1, 11.3, 10.3, 10.7, 9.7, \n",
    "      7.8, 9.6, 9.7, 11.6, 10.3, 9.8, 12.3, 11.0, 10.4, 10.4]\n",
    "\n",
    "# sample down wind\n",
    "x2 = [7.8, 7.5, 9.5, 11.7, 8.1, 8.8, 8.8, 7.7, 9.7, 7.0, \n",
    "      9.0, 9.7, 11.3, 8.7, 8.8, 10.9, 10.3, 9.6, 8.4, 6.6,\n",
    "      7.2, 7.6, 11.5, 6.6, 8.6, 10.5, 8.4, 8.5, 10.2, 9.2]\n",
    "\n",
    "\n",
    "t, p_value = stats.ttest_ind(x2, x1)\n",
    "print(\"tstats = \",t, \", p_value = \", p_value)"
   ]
  },
  {
   "cell_type": "markdown",
   "metadata": {},
   "source": [
    "Since P-value(0.0007) < 0.05 (alpha) we reject the null hypothesis and conclude that there is a difference in the two means."
   ]
  },
  {
   "cell_type": "markdown",
   "metadata": {
    "_cell_guid": "9b5d97b5-9c0c-4a45-b333-36d3bdeecdcc",
    "_uuid": "8520e337989f942369ad861e6aebece17394efe3",
    "colab_type": "text",
    "collapsed": true,
    "id": "1qEyYs3GE43P"
   },
   "source": [
    "## 7. Paired samples t-test.\n",
    "The average mass of acorns from the same N=30 trees down wind of a power plant is measured before (x<sub>1</sub>) and after (x<sub>2</sub>) the power plant converts from burning coal to buring natural gas. Does the mass of the acorns increase after the conversion from coal to natural gas? \n",
    "\n",
    "### sample before conversion to natural gas\n",
    "x1 = np.array([10.8, 6.4, 8.3, 7.6, 11.4, 9.9, 10.6, 8.7, 8.1, 10.9,\n",
    "      11.0, 11.8, 7.3, 9.6, 9.3, 9.9, 9.0, 9.5, 10.6, 10.3,\n",
    "      8.8, 12.3, 8.9, 10.5, 11.6, 7.6, 8.9, 10.4, 10.2, 8.8])\n",
    "\n",
    "### sample after conversion to natural gas\n",
    "x2 = np.array([10.1, 6.9, 8.6, 8.8, 12.1, 11.3, 12.4, 9.3, 9.3, 10.8,\n",
    "      12.4, 11.5, 7.4, 10.0, 11.1, 10.6, 9.4, 9.5, 10.0, 10.0,\n",
    "      9.7, 13.5, 9.6, 11.6, 11.7, 7.9, 8.6, 10.8, 9.5, 9.6])\n",
    "\n"
   ]
  },
  {
   "cell_type": "markdown",
   "metadata": {},
   "source": [
    "**a) Formulate null and alternate hypothesis.**\n",
    "\n",
    "* H<sub>0</sub>: x2-x1 = 0 (The mean difference between the two samples is equal to zero)\n",
    "* H<sub>1</sub>: x2-x1 != 0 (The mean difference between the two samples is not equal to zero)"
   ]
  },
  {
   "cell_type": "markdown",
   "metadata": {},
   "source": [
    "**b) Calculate the test-statistics and based on p-value provide a conclusion.**"
   ]
  },
  {
   "cell_type": "code",
   "execution_count": 9,
   "metadata": {
    "_cell_guid": "d5690fde-4d81-4f50-93c0-cad681140c71",
    "_uuid": "a256d0a2cc6426f642854fc66a63dd146d37bcf7",
    "colab": {},
    "colab_type": "code",
    "id": "sn_qG1AbE43P",
    "outputId": "e57eccc9-9b57-4bf9-8656-84b21fa38fdb"
   },
   "outputs": [
    {
     "name": "stdout",
     "output_type": "stream",
     "text": [
      "tstats =  3.905439081326491 , p-value =  0.0005168689824684378\n"
     ]
    }
   ],
   "source": [
    "# sample before conversion to natural gas\n",
    "x1 = np.array([10.8, 6.4, 8.3, 7.6, 11.4, 9.9, 10.6, 8.7, 8.1, 10.9,\n",
    "      11.0, 11.8, 7.3, 9.6, 9.3, 9.9, 9.0, 9.5, 10.6, 10.3,\n",
    "      8.8, 12.3, 8.9, 10.5, 11.6, 7.6, 8.9, 10.4, 10.2, 8.8])\n",
    "# sample after conversion to natural gas\n",
    "x2 = np.array([10.1, 6.9, 8.6, 8.8, 12.1, 11.3, 12.4, 9.3, 9.3, 10.8,\n",
    "      12.4, 11.5, 7.4, 10.0, 11.1, 10.6, 9.4, 9.5, 10.0, 10.0,\n",
    "      9.7, 13.5, 9.6, 11.6, 11.7, 7.9, 8.6, 10.8, 9.5, 9.6])\n",
    "\n",
    "\n",
    "t, p = stats.ttest_1samp(x2-x1,0)\n",
    "print(\"tstats = \", t, \", p-value = \", p) "
   ]
  },
  {
   "cell_type": "markdown",
   "metadata": {},
   "source": [
    "Since P-value(0.0005) < 0.05 (alpha) we reject the null hypothesis and conclude that the mean difference(μd) between the two populations is not equal to zero and there is a significant difference between them."
   ]
  }
 ],
 "metadata": {
  "kernelspec": {
   "display_name": "Python 3",
   "language": "python",
   "name": "python3"
  },
  "language_info": {
   "codemirror_mode": {
    "name": "ipython",
    "version": 3
   },
   "file_extension": ".py",
   "mimetype": "text/x-python",
   "name": "python",
   "nbconvert_exporter": "python",
   "pygments_lexer": "ipython3",
   "version": "3.8.5"
  },
  "toc": {
   "base_numbering": 1,
   "nav_menu": {},
   "number_sections": true,
   "sideBar": true,
   "skip_h1_title": false,
   "title_cell": "Table of Contents",
   "title_sidebar": "Contents",
   "toc_cell": false,
   "toc_position": {},
   "toc_section_display": true,
   "toc_window_display": false
  }
 },
 "nbformat": 4,
 "nbformat_minor": 4
}
